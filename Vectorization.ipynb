{
  "nbformat": 4,
  "nbformat_minor": 0,
  "metadata": {
    "colab": {
      "provenance": [],
      "gpuType": "T4"
    },
    "kernelspec": {
      "name": "python3",
      "display_name": "Python 3"
    },
    "language_info": {
      "name": "python"
    },
    "accelerator": "GPU"
  },
  "cells": [
    {
      "cell_type": "code",
      "execution_count": 25,
      "metadata": {
        "id": "D1VzcvCg_u5l"
      },
      "outputs": [],
      "source": [
        "import tensorflow as tf\n",
        "import numpy as np\n",
        "from tensorflow import keras\n",
        "import os\n",
        "import shutil\n",
        "import re\n",
        "import string\n",
        "import matplotlib.pyplot as plt"
      ]
    },
    {
      "cell_type": "code",
      "source": [
        "url = \"https://ai.stanford.edu/~amaas/data/sentiment/aclImdb_v1.tar.gz\"\n",
        "dataset = keras.utils.get_file(\"aclImdb_v1\", url, untar=True)\n",
        "dataset_dir = os.path.join(os.path.dirname(dataset), 'aclImdb')"
      ],
      "metadata": {
        "colab": {
          "base_uri": "https://localhost:8080/"
        },
        "id": "V4yY9kDs_9FV",
        "outputId": "24dcaf5c-bb16-4c7d-9c18-1236fb46a62f"
      },
      "execution_count": 2,
      "outputs": [
        {
          "output_type": "stream",
          "name": "stdout",
          "text": [
            "Downloading data from https://ai.stanford.edu/~amaas/data/sentiment/aclImdb_v1.tar.gz\n",
            "84125825/84125825 [==============================] - 2s 0us/step\n"
          ]
        }
      ]
    },
    {
      "cell_type": "code",
      "source": [
        "os.listdir(dataset_dir)"
      ],
      "metadata": {
        "colab": {
          "base_uri": "https://localhost:8080/"
        },
        "id": "uhaWerDXBwvq",
        "outputId": "b8682f82-1759-496f-e0bd-b2626a4687f4"
      },
      "execution_count": 3,
      "outputs": [
        {
          "output_type": "execute_result",
          "data": {
            "text/plain": [
              "['test', 'imdbEr.txt', 'README', 'train', 'imdb.vocab']"
            ]
          },
          "metadata": {},
          "execution_count": 3
        }
      ]
    },
    {
      "cell_type": "code",
      "source": [
        "train_dir = os.path.join(dataset_dir, 'train')\n",
        "os.listdir(train_dir)"
      ],
      "metadata": {
        "colab": {
          "base_uri": "https://localhost:8080/"
        },
        "id": "PNwCAn8FB95w",
        "outputId": "3cabe4a5-a8ef-4370-d64f-f0793a6d93c7"
      },
      "execution_count": 4,
      "outputs": [
        {
          "output_type": "execute_result",
          "data": {
            "text/plain": [
              "['urls_unsup.txt',\n",
              " 'pos',\n",
              " 'unsupBow.feat',\n",
              " 'unsup',\n",
              " 'urls_pos.txt',\n",
              " 'neg',\n",
              " 'labeledBow.feat',\n",
              " 'urls_neg.txt']"
            ]
          },
          "metadata": {},
          "execution_count": 4
        }
      ]
    },
    {
      "cell_type": "code",
      "source": [
        "test_dir = os.path.join(dataset_dir, 'test')\n",
        "os.listdir(test_dir)"
      ],
      "metadata": {
        "colab": {
          "base_uri": "https://localhost:8080/"
        },
        "id": "DkveRlqRO3hX",
        "outputId": "aeecb82c-d9aa-48c4-ad63-22898a79292f"
      },
      "execution_count": 5,
      "outputs": [
        {
          "output_type": "execute_result",
          "data": {
            "text/plain": [
              "['pos', 'urls_pos.txt', 'neg', 'labeledBow.feat', 'urls_neg.txt']"
            ]
          },
          "metadata": {},
          "execution_count": 5
        }
      ]
    },
    {
      "cell_type": "code",
      "source": [
        "sample_path = os.path.join(train_dir, 'pos/2297_7.txt')\n",
        "with open(sample_path) as f:\n",
        "    print(f.read())"
      ],
      "metadata": {
        "colab": {
          "base_uri": "https://localhost:8080/"
        },
        "id": "h2rvnveHCFWH",
        "outputId": "ef763172-023d-4dc3-a4b5-8b12f8f5d4c5"
      },
      "execution_count": 6,
      "outputs": [
        {
          "output_type": "stream",
          "name": "stdout",
          "text": [
            "There's something about every \"Hammer\" movie I see that really takes me into a new fantasy world. In the world of \"Hammer\" movies, anything can happen. \"Guardian of the Abyss\" is one of those types of movies. It adventures deep into the occult and hypnosis to bring a different type of horror fantasy. All in all, an unforgettable movie. 7.5/10.\n"
          ]
        }
      ]
    },
    {
      "cell_type": "markdown",
      "source": [
        "## Getting data ready"
      ],
      "metadata": {
        "id": "deyAN5KMDKP3"
      }
    },
    {
      "cell_type": "code",
      "source": [
        "unsup_dir = os.path.join(train_dir, 'unsup')\n",
        "shutil.rmtree(unsup_dir)"
      ],
      "metadata": {
        "id": "SyQGqeuvCfrx"
      },
      "execution_count": 7,
      "outputs": []
    },
    {
      "cell_type": "code",
      "source": [
        "BATCH_SIZE = 32\n",
        "SEED = 42\n",
        "\n",
        "raw_train_dataset = tf.keras.utils.text_dataset_from_directory(\n",
        "   train_dir,\n",
        "   batch_size=BATCH_SIZE,\n",
        "   seed = SEED,\n",
        "   validation_split=0.2,\n",
        "   subset='training'\n",
        ")"
      ],
      "metadata": {
        "colab": {
          "base_uri": "https://localhost:8080/"
        },
        "id": "iyoapmP4DdHD",
        "outputId": "c75e7cde-629f-4812-8a9a-a5077b393f5d"
      },
      "execution_count": 8,
      "outputs": [
        {
          "output_type": "stream",
          "name": "stdout",
          "text": [
            "Found 25000 files belonging to 2 classes.\n",
            "Using 20000 files for training.\n"
          ]
        }
      ]
    },
    {
      "cell_type": "code",
      "source": [
        "for text, label in raw_train_dataset.take(1):\n",
        "    for i in range(3):\n",
        "        print(\"Review:\", text.numpy()[i])\n",
        "        print(\"Label:\", label.numpy()[i])"
      ],
      "metadata": {
        "colab": {
          "base_uri": "https://localhost:8080/"
        },
        "id": "jZCYmBTyESKA",
        "outputId": "64dbaddd-7d30-4e77-b04a-7ba83f2b5435"
      },
      "execution_count": 9,
      "outputs": [
        {
          "output_type": "stream",
          "name": "stdout",
          "text": [
            "Review: b'\"Pandemonium\" is a horror movie spoof that comes off more stupid than funny. Believe me when I tell you, I love comedies. Especially comedy spoofs. \"Airplane\", \"The Naked Gun\" trilogy, \"Blazing Saddles\", \"High Anxiety\", and \"Spaceballs\" are some of my favorite comedies that spoof a particular genre. \"Pandemonium\" is not up there with those films. Most of the scenes in this movie had me sitting there in stunned silence because the movie wasn\\'t all that funny. There are a few laughs in the film, but when you watch a comedy, you expect to laugh a lot more than a few times and that\\'s all this film has going for it. Geez, \"Scream\" had more laughs than this film and that was more of a horror film. How bizarre is that?<br /><br />*1/2 (out of four)'\n",
            "Label: 0\n",
            "Review: b\"David Mamet is a very interesting and a very un-equal director. His first movie 'House of Games' was the one I liked best, and it set a series of films with characters whose perspective of life changes as they get into complicated situations, and so does the perspective of the viewer.<br /><br />So is 'Homicide' which from the title tries to set the mind of the viewer to the usual crime drama. The principal characters are two cops, one Jewish and one Irish who deal with a racially charged area. The murder of an old Jewish shop owner who proves to be an ancient veteran of the Israeli Independence war triggers the Jewish identity in the mind and heart of the Jewish detective.<br /><br />This is were the flaws of the film are the more obvious. The process of awakening is theatrical and hard to believe, the group of Jewish militants is operatic, and the way the detective eventually walks to the final violent confrontation is pathetic. The end of the film itself is Mamet-like smart, but disappoints from a human emotional perspective.<br /><br />Joe Mantegna and William Macy give strong performances, but the flaws of the story are too evident to be easily compensated.\"\n",
            "Label: 0\n",
            "Review: b'Great documentary about the lives of NY firefighters during the worst terrorist attack of all time.. That reason alone is why this should be a must see collectors item.. What shocked me was not only the attacks, but the\"High Fat Diet\" and physical appearance of some of these firefighters. I think a lot of Doctors would agree with me that,in the physical shape they were in, some of these firefighters would NOT of made it to the 79th floor carrying over 60 lbs of gear. Having said that i now have a greater respect for firefighters and i realize becoming a firefighter is a life altering job. The French have a history of making great documentary\\'s and that is what this is, a Great Documentary.....'\n",
            "Label: 1\n"
          ]
        }
      ]
    },
    {
      "cell_type": "code",
      "source": [
        "print(f\"Label 0 corresponds to {raw_train_dataset.class_names[0]}\")\n",
        "print(f\"Label 1 corresponds to {raw_train_dataset.class_names[1]}\")"
      ],
      "metadata": {
        "colab": {
          "base_uri": "https://localhost:8080/"
        },
        "id": "VZXMIeNXEr_T",
        "outputId": "8e4a3af4-089e-4818-d5bc-1f4c88393953"
      },
      "execution_count": 10,
      "outputs": [
        {
          "output_type": "stream",
          "name": "stdout",
          "text": [
            "Label 0 corresponds to neg\n",
            "Label 1 corresponds to pos\n"
          ]
        }
      ]
    },
    {
      "cell_type": "code",
      "source": [
        "raw_validation_dataset = tf.keras.utils.text_dataset_from_directory(\n",
        "    train_dir,\n",
        "    batch_size=BATCH_SIZE,\n",
        "    seed=SEED,\n",
        "    validation_split=0.2,\n",
        "    subset='validation'\n",
        ")"
      ],
      "metadata": {
        "colab": {
          "base_uri": "https://localhost:8080/"
        },
        "id": "O4IGW_msE9Vm",
        "outputId": "78b165a8-504f-442a-ade3-8b9c5182d4fb"
      },
      "execution_count": 11,
      "outputs": [
        {
          "output_type": "stream",
          "name": "stdout",
          "text": [
            "Found 25000 files belonging to 2 classes.\n",
            "Using 5000 files for validation.\n"
          ]
        }
      ]
    },
    {
      "cell_type": "code",
      "source": [
        "raw_test_dataset = tf.keras.utils.text_dataset_from_directory(\n",
        "    test_dir,\n",
        "    batch_size=BATCH_SIZE\n",
        ")"
      ],
      "metadata": {
        "colab": {
          "base_uri": "https://localhost:8080/"
        },
        "id": "qfnT2jQJPBjm",
        "outputId": "c8b6df33-4457-4c05-8e5c-13e16671bdd8"
      },
      "execution_count": 12,
      "outputs": [
        {
          "output_type": "stream",
          "name": "stdout",
          "text": [
            "Found 25000 files belonging to 2 classes.\n"
          ]
        }
      ]
    },
    {
      "cell_type": "markdown",
      "source": [
        "## Prepare for training"
      ],
      "metadata": {
        "id": "MV9vN-yQFuOJ"
      }
    },
    {
      "cell_type": "code",
      "source": [
        "def custom_standardization(input_data):\n",
        "  lowercase = tf.strings.lower(input_data)\n",
        "  stripped_html = tf.strings.regex_replace(lowercase, '<br />', ' ')\n",
        "  return tf.strings.regex_replace(stripped_html,\n",
        "                                  '[%s]' % re.escape(string.punctuation),\n",
        "                                  '')"
      ],
      "metadata": {
        "id": "xN8_EcFiFMDd"
      },
      "execution_count": 13,
      "outputs": []
    },
    {
      "cell_type": "code",
      "source": [
        "custom_standardization(\"Hello, this is Alireza! I am very <br /> happy that I am here. Hay\")"
      ],
      "metadata": {
        "colab": {
          "base_uri": "https://localhost:8080/"
        },
        "id": "CNi3fobCFriI",
        "outputId": "d746dabf-79e7-443e-950b-d707fc8bf46a"
      },
      "execution_count": 14,
      "outputs": [
        {
          "output_type": "execute_result",
          "data": {
            "text/plain": [
              "<tf.Tensor: shape=(), dtype=string, numpy=b'hello this is alireza i am very   happy that i am here hay'>"
            ]
          },
          "metadata": {},
          "execution_count": 14
        }
      ]
    },
    {
      "cell_type": "code",
      "source": [
        "MAX_FEATURES = 10000\n",
        "SEQUENCE_LENGTH = 250\n",
        "\n",
        "vectorize_layer = keras.layers.TextVectorization(\n",
        "    standardize=custom_standardization,\n",
        "    max_tokens=MAX_FEATURES,\n",
        "    output_mode='int',\n",
        "    output_sequence_length=SEQUENCE_LENGTH\n",
        ")"
      ],
      "metadata": {
        "id": "rYpd0df_HcCm"
      },
      "execution_count": 15,
      "outputs": []
    },
    {
      "cell_type": "code",
      "source": [
        "train_text = raw_train_dataset.map(lambda x, y: x)\n",
        "vectorize_layer.adapt(train_text)"
      ],
      "metadata": {
        "id": "xvafqrozI5yi"
      },
      "execution_count": 16,
      "outputs": []
    },
    {
      "cell_type": "code",
      "source": [
        "def vectorize_text(text, label):\n",
        "    text = tf.expand_dims(text, -1)\n",
        "    vec = vectorize_layer(text)\n",
        "    return vec, label"
      ],
      "metadata": {
        "id": "Vk5MO11UJK2N"
      },
      "execution_count": 17,
      "outputs": []
    },
    {
      "cell_type": "code",
      "source": [
        "vectorize_text(\"Hello, I am Alireza and I am happy to be here\", 1)"
      ],
      "metadata": {
        "colab": {
          "base_uri": "https://localhost:8080/"
        },
        "id": "NwLLRh8PJv5c",
        "outputId": "48416bfa-74da-456e-b730-3863b980cd74"
      },
      "execution_count": 18,
      "outputs": [
        {
          "output_type": "execute_result",
          "data": {
            "text/plain": [
              "(<tf.Tensor: shape=(1, 250), dtype=int64, numpy=\n",
              " array([[5128,   10,  237,    1,    3,   10,  237,  654,    6,   26,  128,\n",
              "            0,    0,    0,    0,    0,    0,    0,    0,    0,    0,    0,\n",
              "            0,    0,    0,    0,    0,    0,    0,    0,    0,    0,    0,\n",
              "            0,    0,    0,    0,    0,    0,    0,    0,    0,    0,    0,\n",
              "            0,    0,    0,    0,    0,    0,    0,    0,    0,    0,    0,\n",
              "            0,    0,    0,    0,    0,    0,    0,    0,    0,    0,    0,\n",
              "            0,    0,    0,    0,    0,    0,    0,    0,    0,    0,    0,\n",
              "            0,    0,    0,    0,    0,    0,    0,    0,    0,    0,    0,\n",
              "            0,    0,    0,    0,    0,    0,    0,    0,    0,    0,    0,\n",
              "            0,    0,    0,    0,    0,    0,    0,    0,    0,    0,    0,\n",
              "            0,    0,    0,    0,    0,    0,    0,    0,    0,    0,    0,\n",
              "            0,    0,    0,    0,    0,    0,    0,    0,    0,    0,    0,\n",
              "            0,    0,    0,    0,    0,    0,    0,    0,    0,    0,    0,\n",
              "            0,    0,    0,    0,    0,    0,    0,    0,    0,    0,    0,\n",
              "            0,    0,    0,    0,    0,    0,    0,    0,    0,    0,    0,\n",
              "            0,    0,    0,    0,    0,    0,    0,    0,    0,    0,    0,\n",
              "            0,    0,    0,    0,    0,    0,    0,    0,    0,    0,    0,\n",
              "            0,    0,    0,    0,    0,    0,    0,    0,    0,    0,    0,\n",
              "            0,    0,    0,    0,    0,    0,    0,    0,    0,    0,    0,\n",
              "            0,    0,    0,    0,    0,    0,    0,    0,    0,    0,    0,\n",
              "            0,    0,    0,    0,    0,    0,    0,    0,    0,    0,    0,\n",
              "            0,    0,    0,    0,    0,    0,    0,    0,    0,    0,    0,\n",
              "            0,    0,    0,    0,    0,    0,    0,    0]])>,\n",
              " 1)"
            ]
          },
          "metadata": {},
          "execution_count": 18
        }
      ]
    },
    {
      "cell_type": "code",
      "source": [
        "vocab = vectorize_layer.get_vocabulary()"
      ],
      "metadata": {
        "id": "Dz3kCJrkKh8o"
      },
      "execution_count": 19,
      "outputs": []
    },
    {
      "cell_type": "code",
      "source": [
        "for i, v in enumerate(vocab):\n",
        "    print(f\"{i:6}:{v:>20} \", end=' ')\n",
        "    if i % 3 == 0:\n",
        "        print()\n",
        "\n",
        "    if i > 1000:\n",
        "        print(\"...\")\n",
        "        break"
      ],
      "metadata": {
        "colab": {
          "base_uri": "https://localhost:8080/"
        },
        "id": "KsUJL0L4K8pA",
        "outputId": "7e3c63e1-f54a-4616-d090-c3b6522a0141"
      },
      "execution_count": 20,
      "outputs": [
        {
          "output_type": "stream",
          "name": "stdout",
          "text": [
            "     0:                      \n",
            "     1:               [UNK]       2:                 the       3:                 and  \n",
            "     4:                   a       5:                  of       6:                  to  \n",
            "     7:                  is       8:                  in       9:                  it  \n",
            "    10:                   i      11:                this      12:                that  \n",
            "    13:                 was      14:                  as      15:                 for  \n",
            "    16:                with      17:               movie      18:                 but  \n",
            "    19:                film      20:                  on      21:                 not  \n",
            "    22:                 you      23:                 are      24:                 his  \n",
            "    25:                have      26:                  be      27:                  he  \n",
            "    28:                 one      29:                 its      30:                 all  \n",
            "    31:                  at      32:                  by      33:                  an  \n",
            "    34:                they      35:                from      36:                 who  \n",
            "    37:                  so      38:                like      39:                 her  \n",
            "    40:                just      41:                  or      42:               about  \n",
            "    43:                 has      44:                 out      45:                  if  \n",
            "    46:                some      47:               there      48:                what  \n",
            "    49:                good      50:                more      51:                when  \n",
            "    52:                very      53:                even      54:                  my  \n",
            "    55:                 she      56:                  up      57:                  no  \n",
            "    58:                time      59:               would      60:               which  \n",
            "    61:                only      62:              really      63:               story  \n",
            "    64:               their      65:                were      66:                 had  \n",
            "    67:                 see      68:                 can      69:                  me  \n",
            "    70:                than      71:                  we      72:                much  \n",
            "    73:                well      74:                been      75:                 get  \n",
            "    76:                will      77:                also      78:               other  \n",
            "    79:              people      80:                 bad      81:                into  \n",
            "    82:                  do      83:               first      84:             because  \n",
            "    85:                 him      86:               great      87:                 how  \n",
            "    88:                most      89:                dont      90:                made  \n",
            "    91:              movies      92:                then      93:                them  \n",
            "    94:               films      95:                 way      96:                make  \n",
            "    97:                 any      98:               could      99:                 too  \n",
            "   100:          characters     101:               after     102:               think  \n",
            "   103:               watch     104:                 two     105:                seen  \n",
            "   106:           character     107:                many     108:               being  \n",
            "   109:              acting     110:               never     111:                plot  \n",
            "   112:              little     113:                best     114:               where  \n",
            "   115:                love     116:                life     117:                 did  \n",
            "   118:                know     119:                show     120:                does  \n",
            "   121:                ever     122:              better     123:                your  \n",
            "   124:                 end     125:               still     126:                over  \n",
            "   127:                 off     128:                here     129:               these  \n",
            "   130:                 man     131:                 say     132:               while  \n",
            "   133:                 why     134:               scene     135:                such  \n",
            "   136:              scenes     137:                  go     138:           something  \n",
            "   139:              should     140:             through     141:                  im  \n",
            "   142:                back     143:               those     144:              doesnt  \n",
            "   145:                real     146:            watching     147:              though  \n",
            "   148:                 now     149:               years     150:               thing  \n",
            "   151:              actors     152:               didnt     153:              before  \n",
            "   154:             another     155:             nothing     156:                 new  \n",
            "   157:            actually     158:               makes     159:                work  \n",
            "   160:               funny     161:                 old     162:                look  \n",
            "   163:                find     164:                same     165:               every  \n",
            "   166:                 few     167:                  us     168:               going  \n",
            "   169:               again     170:                part     171:                 lot  \n",
            "   172:            director     173:                cast     174:                cant  \n",
            "   175:              things     176:               quite     177:               thats  \n",
            "   178:                want     179:              pretty     180:               seems  \n",
            "   181:               young     182:               world     183:              around  \n",
            "   184:                 got     185:                down     186:                fact  \n",
            "   187:              enough     188:             between     189:             however  \n",
            "   190:                take     191:              horror     192:                both  \n",
            "   193:                give     194:                 may     195:                 ive  \n",
            "   196:                 own     197:             thought     198:            original  \n",
            "   199:                 big     200:              series     201:                gets  \n",
            "   202:             without     203:                come     204:              always  \n",
            "   205:               right     206:               times     207:                isnt  \n",
            "   208:                 saw     209:                long     210:               least  \n",
            "   211:               whole     212:              theres     213:               point  \n",
            "   214:                role     215:              family     216:              action  \n",
            "   217:         interesting     218:              almost     219:                must  \n",
            "   220:              comedy     221:                 bit     222:               music  \n",
            "   223:                done     224:              script     225:                 guy  \n",
            "   226:             minutes     227:               might     228:            anything  \n",
            "   229:                last     230:               since     231:                 far  \n",
            "   232:                feel     233:                 hes     234:         performance  \n",
            "   235:            probably     236:                kind     237:                  am  \n",
            "   238:                away     239:              rather     240:                 yet  \n",
            "   241:               worst     242:                sure     243:                  tv  \n",
            "   244:                 fun     245:                each     246:               woman  \n",
            "   247:                girl     248:              played     249:              making  \n",
            "   250:              anyone     251:               found     252:                 our  \n",
            "   253:              having     254:            although     255:               comes  \n",
            "   256:             believe     257:                 day     258:              trying  \n",
            "   259:              course     260:          especially     261:                goes  \n",
            "   262:               looks     263:           different     264:                hard  \n",
            "   265:               place     266:               shows     267:                book  \n",
            "   268:                 put     269:               wasnt     270:              ending  \n",
            "   271:               sense     272:                once     273:              reason  \n",
            "   274:                true     275:                main     276:          everything  \n",
            "   277:              screen     278:               maybe     279:               money  \n",
            "   280:               worth     281:            together     282:             someone  \n",
            "   283:                 job     284:                   2     285:               actor  \n",
            "   286:                 set     287:                 dvd     288:             looking  \n",
            "   289:             watched     290:               plays     291:             instead  \n",
            "   292:                said     293:                play     294:               takes  \n",
            "   295:                seem     296:                  10     297:               three  \n",
            "   298:               later     299:           beautiful     300:             effects  \n",
            "   301:             himself     302:            everyone     303:              during  \n",
            "   304:           excellent     305:            audience     306:             special  \n",
            "   307:                john     308:                left     309:               house  \n",
            "   310:             version     311:              seeing     312:            american  \n",
            "   313:               night     314:                idea     315:                shot  \n",
            "   316:                nice     317:                wife     318:              simply  \n",
            "   319:                help     320:                else     321:               black  \n",
            "   322:                less     323:               death     324:                read  \n",
            "   325:                 fan     326:                star     327:               youre  \n",
            "   328:                kids     329:                 war     330:                used  \n",
            "   331:                high     332:              father     333:              second  \n",
            "   334:          completely     335:             friends     336:                year  \n",
            "   337:               wrong     338:              either     339:                mind  \n",
            "   340:               given     341:        performances     342:                poor  \n",
            "   343:                 use     344:                 try     345:                home  \n",
            "   346:              boring     347:               enjoy     348:                 men  \n",
            "   349:                need     350:               short     351:                rest  \n",
            "   352:             classic     353:               truly     354:           hollywood  \n",
            "   355:               until     356:                line     357:                next  \n",
            "   358:               along     359:          production     360:              couple  \n",
            "   361:                tell     362:                dead     363:                half  \n",
            "   364:              others     365:               awful     366:            remember  \n",
            "   367:           recommend     368:               start     369:             moments  \n",
            "   370:                 let     371:                came     372:                keep  \n",
            "   373:             perhaps     374:                full     375:             episode  \n",
            "   376:          understand     377:              stupid     378:               stars  \n",
            "   379:              camera     380:                mean     381:               women  \n",
            "   382:            terrible     383:             getting     384:               doing  \n",
            "   385:             playing     386:           wonderful     387:          definitely  \n",
            "   388:                 sex     389:               small     390:               human  \n",
            "   391:               often     392:               gives     393:                name  \n",
            "   394:              become     395:               early     396:               video  \n",
            "   397:             perfect     398:                face     399:            dialogue  \n",
            "   400:              itself     401:                case     402:               lines  \n",
            "   403:             couldnt     404:             finally     405:              person  \n",
            "   406:                felt     407:                lost     408:               waste  \n",
            "   409:          absolutely     410:               title     411:               piece  \n",
            "   412:            supposed     413:              school     414:               liked  \n",
            "   415:                 top     416:              budget     417:              entire  \n",
            "   418:             written     419:                live     420:                 yes  \n",
            "   421:               worse     422:                hope     423:             against  \n",
            "   424:        entertaining     425:                sort     426:                went  \n",
            "   427:                shes     428:                head     429:             problem  \n",
            "   430:             picture     431:             overall     432:           certainly  \n",
            "   433:               style     434:              cinema     435:           beginning  \n",
            "   436:                 boy     437:                evil     438:                care  \n",
            "   439:                fans     440:             several     441:               white  \n",
            "   442:               lives     443:               based     444:              mother  \n",
            "   445:             example     446:               loved     447:                dark  \n",
            "   448:           direction     449:                  oh     450:                  id  \n",
            "   451:             already     452:                   3     453:              seemed  \n",
            "   454:                  mr     455:              wanted     456:             becomes  \n",
            "   457:            children     458:          throughout     459:                turn  \n",
            "   460:       unfortunately     461:                guys     462:             despite  \n",
            "   463:             amazing     464:                wont     465:               final  \n",
            "   466:              killer     467:                fine     468:             history  \n",
            "   469:              friend     470:               guess     471:             totally  \n",
            "   472:               laugh     473:                   1     474:               humor  \n",
            "   475:               wants     476:                days     477:               sound  \n",
            "   478:               girls     479:               drama     480:              behind  \n",
            "   481:                 low     482:               works     483:               youll  \n",
            "   484:             michael     485:                        486:                lead  \n",
            "   487:               turns     488:              called     489:                 son  \n",
            "   490:             quality     491:                past     492:                game  \n",
            "   493:                able     494:               tries     495:                gave  \n",
            "   496:             writing     497:                 act     498:               under  \n",
            "   499:              theyre     500:            favorite     501:              starts  \n",
            "   502:             enjoyed     503:               genre     504:                side  \n",
            "   505:            horrible     506:           brilliant     507:              expect  \n",
            "   508:              viewer     509:                town     510:               flick  \n",
            "   511:                eyes     512:                kill     513:          themselves  \n",
            "   514:             stories     515:                ones     516:             actress  \n",
            "   517:           sometimes     518:               parts     519:                soon  \n",
            "   520:            thinking     521:                 car     522:           obviously  \n",
            "   523:            directed     524:               stuff     525:                 art  \n",
            "   526:               heart     527:             feeling     528:               blood  \n",
            "   529:              decent     530:                 run     531:              matter  \n",
            "   532:                 etc     533:               fight     534:                says  \n",
            "   535:              myself     536:               leave     537:               child  \n",
            "   538:                late     539:                 ill     540:              highly  \n",
            "   541:              cannot     542:                hand     543:              moment  \n",
            "   544:               close     545:                city     546:              killed  \n",
            "   547:               roles     548:               heard     549:              except  \n",
            "   550:                hell     551:                took     552:             wouldnt  \n",
            "   553:            happened     554:                 kid     555:            complete  \n",
            "   556:              strong     557:                lack     558:        particularly  \n",
            "   559:              police     560:             happens     561:                told  \n",
            "   562:              happen     563:                hour     564:              anyway  \n",
            "   565:            involved     566:              wonder     567:            daughter  \n",
            "   568:             attempt     569:           extremely     570:            violence  \n",
            "   571:               james     572:               voice     573:              living  \n",
            "   574:              coming     575:              chance     576:             obvious  \n",
            "   577:                none     578:              murder     579:               alone  \n",
            "   580:           including     581:               shown     582:               score  \n",
            "   583:              please     584:          experience     585:              simple  \n",
            "   586:                save     587:              looked     588:                 age  \n",
            "   589:                 ago     590:               group     591:                crap  \n",
            "   592:            annoying     593:             serious     594:                gore  \n",
            "   595:                type     596:                 god     597:                song  \n",
            "   598:            interest     599:      cinematography     600:               taken  \n",
            "   601:                 sad     602:                slow     603:             brother  \n",
            "   604:             exactly     605:               hours     606:             started  \n",
            "   607:                  ok     608:              career     609:                lets  \n",
            "   610:                ends     611:            possible     612:            yourself  \n",
            "   613:             usually     614:            released     615:           hilarious  \n",
            "   616:               usual     617:               jokes     618:                stop  \n",
            "   619:               david     620:                 hit     621:               scary  \n",
            "   622:             musical     623:              across     624:               whose  \n",
            "   625:                huge     626:                cool     627:              number  \n",
            "   628:           seriously     629:        relationship     630:               known  \n",
            "   631:               finds     632:              change     633:             running  \n",
            "   634:             opening     635:             opinion     636:              mostly  \n",
            "   637:               today     638:              female     639:              robert  \n",
            "   640:            episodes     641:                 cut     642:              talent  \n",
            "   643:                body     644:               novel     645:          ridiculous  \n",
            "   646:              saying     647:               shots     648:             english  \n",
            "   649:            somewhat     650:              events     651:             strange  \n",
            "   652:               power     653:               major     654:               happy  \n",
            "   655:             reality     656:               order     657:             talking  \n",
            "   658:           basically     659:           important     660:                hero  \n",
            "   661:                   5     662:               level     663:                wish  \n",
            "   664:              easily     665:        disappointed     666:                knew  \n",
            "   667:              taking     668:                room     669:                   4  \n",
            "   670:                view     671:           attention     672:             husband  \n",
            "   673:               tells     674:           directors     675:                call  \n",
            "   676:          apparently     677:               words     678:              single  \n",
            "   679:          supporting     680:               earth     681:             british  \n",
            "   682:               knows     683:                king     684:                 due  \n",
            "   685:               silly     686:            problems     687:         documentary  \n",
            "   688:             clearly     689:               songs     690:               local  \n",
            "   691:               arent     692:               whats     693:              rating  \n",
            "   694:               light     695:                four     696:              turned  \n",
            "   697:             similar     698:               cheap     699:                word  \n",
            "   700:                paul     701:              future     702:               falls  \n",
            "   703:                sets     704:                jack     705:               comic  \n",
            "   706:              beyond     707:             whether     708:          television  \n",
            "   709:              modern     710:             viewers     711:             country  \n",
            "   712:              review     713:                five     714:           animation  \n",
            "   715:                miss     716:            sequence     717:               bring  \n",
            "   718:                upon     719:                rock     720:             richard  \n",
            "   721:              within     722:              george     723:             appears  \n",
            "   724:         predictable     725:              giving     726:              sequel  \n",
            "   727:           enjoyable     728:                talk     729:                lady  \n",
            "   730:                 add     731:               theme     732:              actual  \n",
            "   733:             herself     734:               bunch     735:              points  \n",
            "   736:            romantic     737:           storyline     738:               feels  \n",
            "   739:             theater     740:                 red     741:                lots  \n",
            "   742:             message     743:             mystery     744:               needs  \n",
            "   745:       entertainment     746:               above     747:           surprised  \n",
            "   748:               among     749:              nearly     750:             mention  \n",
            "   751:             parents     752:              moving     753:              havent  \n",
            "   754:                 ten     755:                team     756:                 tom  \n",
            "   757:                dull     758:             release     759:                fall  \n",
            "   760:                ways     761:               named     762:              begins  \n",
            "   763:              season     764:                easy     765:              effort  \n",
            "   766:              dialog     767:           fantastic     768:            elements  \n",
            "   769:             typical     770:               tried     771:            comments  \n",
            "   772:                york     773:             working     774:               avoid  \n",
            "   775:               peter     776:             general     777:            thriller  \n",
            "   778:             somehow     779:              middle     780:             certain  \n",
            "   781:                near     782:             feature     783:               using  \n",
            "   784:            straight     785:                 eye     786:               leads  \n",
            "   787:              writer     788:               class     789:                form  \n",
            "   790:                kept     791:              figure     792:              famous  \n",
            "   793:               check     794:                weak     795:                tale  \n",
            "   796:                 buy     797:           sequences     798:            greatest  \n",
            "   799:                hate     800:              french     801:             showing  \n",
            "   802:            material     803:               doubt     804:          particular  \n",
            "   805:             editing     806:               space     807:               sorry  \n",
            "   808:                lame     809:               clear     810:               means  \n",
            "   811:                stay     812:                gone     813:              sister  \n",
            "   814:              filmed     815:           realistic     816:          soundtrack  \n",
            "   817:               learn     818:                 lee     819:                wait  \n",
            "   820:             decided     821:              follow     822:                 die  \n",
            "   823:             viewing     824:             imagine     825:                fast  \n",
            "   826:              poorly     827:               oscar     828:                deal  \n",
            "   829:                hear     830:             reviews     831:          atmosphere  \n",
            "   832:               truth     833:               dance     834:          eventually  \n",
            "   835:                move     836:               youve     837:               crime  \n",
            "   838:               third     839:            surprise     840:              period  \n",
            "   841:                whos     842:             brought     843:              indeed  \n",
            "   844:            suspense     845:              sexual     846:             killing  \n",
            "   847:             writers     848:            whatever     849:             subject  \n",
            "   850:              nature     851:              forget     852:            expected  \n",
            "   853:              zombie     854:                 sit     855:             premise  \n",
            "   856:                  de     857:          believable     858:                 80s  \n",
            "   859:            possibly     860:          screenplay     861:          filmmakers  \n",
            "   862:                rent     863:                 nor     864:            japanese  \n",
            "   865:           emotional     866:               begin     867:             romance  \n",
            "   868:                baby     869:               stand     870:                note  \n",
            "   871:             average     872:                okay     873:              needed  \n",
            "   874:              leaves     875:           difficult     876:           memorable  \n",
            "   877:           situation     878:           otherwise     879:               meets  \n",
            "   880:            question     881:            dramatic     882:             credits  \n",
            "   883:              disney     884:                boys     885:              became  \n",
            "   886:              superb     887:                  dr     888:               shame  \n",
            "   889:             footage     890:                 dog     891:             reading  \n",
            "   892:              forced     893:             earlier     894:               write  \n",
            "   895:               stage     896:             realize     897:               older  \n",
            "   898:                meet     899:              street     900:               badly  \n",
            "   901:              sounds     902:             comment     903:                 ask  \n",
            "   904:             america     905:               total     906:             quickly  \n",
            "   907:              brings     908:               weird     909:              minute  \n",
            "   910:               keeps     911:                whom     912:              unless  \n",
            "   913:              plenty     914:                free     915:            features  \n",
            "   916:              create     917:             society     918:         development  \n",
            "   919:                mess     920:          interested     921:                deep  \n",
            "   922:                imdb     923:              effect     924:              beauty  \n",
            "   925:             setting     926:             casting     927:              worked  \n",
            "   928:           potential     929:              result     930:          incredibly  \n",
            "   931:                 hot     932:               crazy     933:            personal  \n",
            "   934:           directing     935:              creepy     936:             towards  \n",
            "   937:                plus     938:                male     939:                   b  \n",
            "   940:           perfectly     941:                mark     942:               meant  \n",
            "   943:             various     944:               dream     945:              laughs  \n",
            "   946:              return     947:               hands     948:               apart  \n",
            "   949:              battle     950:                  20     951:               admit  \n",
            "   952:              hardly     953:              unique     954:            previous  \n",
            "   955:               fails     956:            business     957:              cheesy  \n",
            "   958:              remake     959:                open     960:             leading  \n",
            "   961:                 air     962:             missing     963:         masterpiece  \n",
            "   964:             manages     965:              inside     966:             reasons  \n",
            "   967:                dumb     968:              secret     969:                 joe  \n",
            "   970:             forward     971:             fantasy     972:               scifi  \n",
            "   973:                fire     974:            powerful     975:           portrayed  \n",
            "   976:                joke     977:              appear     978:               ideas  \n",
            "   979:            brothers     980:                 70s     981:             success  \n",
            "   982:             monster     983:               match     984:           christmas  \n",
            "   985:          background     986:            recently     987:                bill  \n",
            "   988:              unlike     989:               twist     990:                  la  \n",
            "   991:            fighting     992:            deserves     993:            attempts  \n",
            "   994:             outside     995:            spoilers     996:              fairly  \n",
            "   997:           following     998:               front     999:               break  \n",
            "  1000:           political    1001:             william  ...\n"
          ]
        }
      ]
    },
    {
      "cell_type": "code",
      "source": [
        "AUTOTUNE = tf.data.experimental.AUTOTUNE\n",
        "train_dataset = raw_train_dataset.map(vectorize_text, num_parallel_calls=AUTOTUNE)\n",
        "train_dataset = train_dataset.cache()\n",
        "train_dataset = train_dataset.prefetch(AUTOTUNE)\n",
        "\n",
        "validation_dataset = raw_validation_dataset.map(vectorize_text, num_parallel_calls=AUTOTUNE)\n",
        "validation_dataset = validation_dataset.cache()\n",
        "validation_dataset = validation_dataset.prefetch(AUTOTUNE)\n",
        "\n",
        "test_dataset = raw_test_dataset.map(vectorize_text, num_parallel_calls=AUTOTUNE)\n",
        "test_dataset = test_dataset.cache()\n",
        "test_dataset = test_dataset.prefetch(AUTOTUNE)"
      ],
      "metadata": {
        "id": "fYlgsl2cOTEi"
      },
      "execution_count": 21,
      "outputs": []
    },
    {
      "cell_type": "markdown",
      "source": [
        "## Create a model"
      ],
      "metadata": {
        "id": "gDlh0emhQAsr"
      }
    },
    {
      "cell_type": "code",
      "source": [
        "EMBEDDING_DIM = 16\n",
        "\n",
        "model = keras.Sequential([\n",
        "    keras.layers.Embedding(MAX_FEATURES, EMBEDDING_DIM),\n",
        "    keras.layers.Dropout(0.2),\n",
        "    keras.layers.GlobalAveragePooling1D(),\n",
        "    keras.layers.Dropout(0.2),\n",
        "    keras.layers.Dense(1)\n",
        "])\n",
        "\n",
        "model.summary()"
      ],
      "metadata": {
        "colab": {
          "base_uri": "https://localhost:8080/"
        },
        "id": "LqMYLzeFQATC",
        "outputId": "e5f047f0-64f0-4d34-db59-33d829493183"
      },
      "execution_count": 22,
      "outputs": [
        {
          "output_type": "stream",
          "name": "stdout",
          "text": [
            "Model: \"sequential\"\n",
            "_________________________________________________________________\n",
            " Layer (type)                Output Shape              Param #   \n",
            "=================================================================\n",
            " embedding (Embedding)       (None, None, 16)          160000    \n",
            "                                                                 \n",
            " dropout (Dropout)           (None, None, 16)          0         \n",
            "                                                                 \n",
            " global_average_pooling1d (  (None, 16)                0         \n",
            " GlobalAveragePooling1D)                                         \n",
            "                                                                 \n",
            " dropout_1 (Dropout)         (None, 16)                0         \n",
            "                                                                 \n",
            " dense (Dense)               (None, 1)                 17        \n",
            "                                                                 \n",
            "=================================================================\n",
            "Total params: 160017 (625.07 KB)\n",
            "Trainable params: 160017 (625.07 KB)\n",
            "Non-trainable params: 0 (0.00 Byte)\n",
            "_________________________________________________________________\n"
          ]
        }
      ]
    },
    {
      "cell_type": "code",
      "source": [
        "model.compile(\n",
        "    loss=tf.losses.BinaryCrossentropy(from_logits=True),\n",
        "    optimizer='Adam',\n",
        "    metrics=tf.metrics.BinaryAccuracy(threshold=0.0)\n",
        ")"
      ],
      "metadata": {
        "id": "oQdLrz0wPYgv"
      },
      "execution_count": 23,
      "outputs": []
    },
    {
      "cell_type": "code",
      "source": [
        "EPOCHS = 30\n",
        "history = model.fit(\n",
        "    train_dataset,\n",
        "    epochs=EPOCHS,\n",
        "    validation_data=validation_dataset\n",
        ")"
      ],
      "metadata": {
        "colab": {
          "base_uri": "https://localhost:8080/"
        },
        "id": "rtRBIf6hRBkg",
        "outputId": "2bc27e98-215a-4644-ff2a-7de1565768a9"
      },
      "execution_count": 24,
      "outputs": [
        {
          "output_type": "stream",
          "name": "stdout",
          "text": [
            "Epoch 1/30\n",
            "625/625 [==============================] - 51s 77ms/step - loss: 0.6659 - binary_accuracy: 0.6845 - val_loss: 0.6167 - val_binary_accuracy: 0.7712\n",
            "Epoch 2/30\n",
            "625/625 [==============================] - 3s 4ms/step - loss: 0.5500 - binary_accuracy: 0.7976 - val_loss: 0.4990 - val_binary_accuracy: 0.8214\n",
            "Epoch 3/30\n",
            "625/625 [==============================] - 3s 4ms/step - loss: 0.4459 - binary_accuracy: 0.8443 - val_loss: 0.4204 - val_binary_accuracy: 0.8468\n",
            "Epoch 4/30\n",
            "625/625 [==============================] - 3s 4ms/step - loss: 0.3790 - binary_accuracy: 0.8665 - val_loss: 0.3738 - val_binary_accuracy: 0.8614\n",
            "Epoch 5/30\n",
            "625/625 [==============================] - 3s 5ms/step - loss: 0.3363 - binary_accuracy: 0.8794 - val_loss: 0.3449 - val_binary_accuracy: 0.8678\n",
            "Epoch 6/30\n",
            "625/625 [==============================] - 3s 4ms/step - loss: 0.3055 - binary_accuracy: 0.8888 - val_loss: 0.3258 - val_binary_accuracy: 0.8714\n",
            "Epoch 7/30\n",
            "625/625 [==============================] - 3s 4ms/step - loss: 0.2822 - binary_accuracy: 0.8960 - val_loss: 0.3123 - val_binary_accuracy: 0.8734\n",
            "Epoch 8/30\n",
            "625/625 [==============================] - 3s 4ms/step - loss: 0.2629 - binary_accuracy: 0.9040 - val_loss: 0.3030 - val_binary_accuracy: 0.8748\n",
            "Epoch 9/30\n",
            "625/625 [==============================] - 3s 5ms/step - loss: 0.2465 - binary_accuracy: 0.9101 - val_loss: 0.2963 - val_binary_accuracy: 0.8784\n",
            "Epoch 10/30\n",
            "625/625 [==============================] - 2s 4ms/step - loss: 0.2317 - binary_accuracy: 0.9157 - val_loss: 0.2914 - val_binary_accuracy: 0.8782\n",
            "Epoch 11/30\n",
            "625/625 [==============================] - 2s 4ms/step - loss: 0.2200 - binary_accuracy: 0.9201 - val_loss: 0.2884 - val_binary_accuracy: 0.8816\n",
            "Epoch 12/30\n",
            "625/625 [==============================] - 2s 4ms/step - loss: 0.2079 - binary_accuracy: 0.9250 - val_loss: 0.2867 - val_binary_accuracy: 0.8814\n",
            "Epoch 13/30\n",
            "625/625 [==============================] - 3s 4ms/step - loss: 0.1973 - binary_accuracy: 0.9301 - val_loss: 0.2855 - val_binary_accuracy: 0.8830\n",
            "Epoch 14/30\n",
            "625/625 [==============================] - 3s 5ms/step - loss: 0.1889 - binary_accuracy: 0.9334 - val_loss: 0.2858 - val_binary_accuracy: 0.8816\n",
            "Epoch 15/30\n",
            "625/625 [==============================] - 3s 4ms/step - loss: 0.1795 - binary_accuracy: 0.9371 - val_loss: 0.2865 - val_binary_accuracy: 0.8824\n",
            "Epoch 16/30\n",
            "625/625 [==============================] - 3s 4ms/step - loss: 0.1710 - binary_accuracy: 0.9414 - val_loss: 0.2883 - val_binary_accuracy: 0.8834\n",
            "Epoch 17/30\n",
            "625/625 [==============================] - 3s 4ms/step - loss: 0.1630 - binary_accuracy: 0.9438 - val_loss: 0.2900 - val_binary_accuracy: 0.8832\n",
            "Epoch 18/30\n",
            "625/625 [==============================] - 3s 5ms/step - loss: 0.1563 - binary_accuracy: 0.9477 - val_loss: 0.2927 - val_binary_accuracy: 0.8822\n",
            "Epoch 19/30\n",
            "625/625 [==============================] - 3s 4ms/step - loss: 0.1483 - binary_accuracy: 0.9506 - val_loss: 0.2958 - val_binary_accuracy: 0.8824\n",
            "Epoch 20/30\n",
            "625/625 [==============================] - 3s 4ms/step - loss: 0.1428 - binary_accuracy: 0.9527 - val_loss: 0.2994 - val_binary_accuracy: 0.8814\n",
            "Epoch 21/30\n",
            "625/625 [==============================] - 3s 4ms/step - loss: 0.1358 - binary_accuracy: 0.9566 - val_loss: 0.3028 - val_binary_accuracy: 0.8796\n",
            "Epoch 22/30\n",
            "625/625 [==============================] - 3s 5ms/step - loss: 0.1305 - binary_accuracy: 0.9578 - val_loss: 0.3073 - val_binary_accuracy: 0.8802\n",
            "Epoch 23/30\n",
            "625/625 [==============================] - 3s 4ms/step - loss: 0.1236 - binary_accuracy: 0.9614 - val_loss: 0.3122 - val_binary_accuracy: 0.8804\n",
            "Epoch 24/30\n",
            "625/625 [==============================] - 3s 4ms/step - loss: 0.1194 - binary_accuracy: 0.9626 - val_loss: 0.3174 - val_binary_accuracy: 0.8810\n",
            "Epoch 25/30\n",
            "625/625 [==============================] - 3s 4ms/step - loss: 0.1143 - binary_accuracy: 0.9642 - val_loss: 0.3225 - val_binary_accuracy: 0.8798\n",
            "Epoch 26/30\n",
            "625/625 [==============================] - 3s 5ms/step - loss: 0.1097 - binary_accuracy: 0.9668 - val_loss: 0.3279 - val_binary_accuracy: 0.8794\n",
            "Epoch 27/30\n",
            "625/625 [==============================] - 3s 4ms/step - loss: 0.1044 - binary_accuracy: 0.9683 - val_loss: 0.3341 - val_binary_accuracy: 0.8788\n",
            "Epoch 28/30\n",
            "625/625 [==============================] - 3s 4ms/step - loss: 0.1007 - binary_accuracy: 0.9705 - val_loss: 0.3399 - val_binary_accuracy: 0.8794\n",
            "Epoch 29/30\n",
            "625/625 [==============================] - 3s 4ms/step - loss: 0.0949 - binary_accuracy: 0.9722 - val_loss: 0.3467 - val_binary_accuracy: 0.8802\n",
            "Epoch 30/30\n",
            "625/625 [==============================] - 3s 5ms/step - loss: 0.0931 - binary_accuracy: 0.9730 - val_loss: 0.3527 - val_binary_accuracy: 0.8790\n"
          ]
        }
      ]
    },
    {
      "cell_type": "code",
      "source": [
        "metrics = ['loss', 'binary_accuracy']\n",
        "\n",
        "fig = plt.figure(figsize=(10, 5))\n",
        "for i in range(1, len(metrics) + 1):\n",
        "    ax = plt.subplot(1, len(metrics), i)\n",
        "    ax.plot(history.epoch, history.history[metrics[i - 1]], label=metrics[i-1])\n",
        "    ax.plot(history.epoch, history.history['val_'+metrics[i - 1]], label='val_'+metrics[i-1])\n",
        "    ax.set_title(f\"{metrics[i-1].capitalize()} per epoch\")\n",
        "    ax.set_xlabel('epoch')\n",
        "    ax.set_ylabel(metrics[i-1])\n",
        "    ax.grid()\n",
        "    ax.legend()"
      ],
      "metadata": {
        "colab": {
          "base_uri": "https://localhost:8080/",
          "height": 487
        },
        "id": "Iw-him7ERJ0i",
        "outputId": "08394b11-af29-43c9-d55e-5580f3aebb65"
      },
      "execution_count": 29,
      "outputs": [
        {
          "output_type": "display_data",
          "data": {
            "text/plain": [
              "<Figure size 1000x500 with 2 Axes>"
            ],
            "image/png": "[encoded data removed]"
          },
          "metadata": {}
        }
      ]
    },
    {
      "cell_type": "markdown",
      "source": [
        "## Evaluation and export"
      ],
      "metadata": {
        "id": "5Gxzm0acTv7B"
      }
    },
    {
      "cell_type": "code",
      "source": [
        "export_model = keras.Sequential([\n",
        "    vectorize_layer,\n",
        "    model,\n",
        "    keras.layers.Activation('sigmoid')\n",
        "])\n",
        "\n",
        "export_model.compile(\n",
        "    loss='binary_cross_entropy',\n",
        "    optimizer='adam',\n",
        "    metrics=['accuracy']\n",
        ")"
      ],
      "metadata": {
        "id": "2PtXN6O7StYq"
      },
      "execution_count": 32,
      "outputs": []
    },
    {
      "cell_type": "code",
      "source": [
        "examples = [\n",
        "    'The movie was greate!',\n",
        "    'The movie was terrible',\n",
        "    'I didn\\'t like the movie'\n",
        "]\n",
        "\n",
        "export_model.predict(examples)"
      ],
      "metadata": {
        "colab": {
          "base_uri": "https://localhost:8080/"
        },
        "id": "gIp9rXtRUHdE",
        "outputId": "0a3a33b1-0ae6-4970-99ba-52cff7872ded"
      },
      "execution_count": 33,
      "outputs": [
        {
          "output_type": "stream",
          "name": "stdout",
          "text": [
            "1/1 [==============================] - 0s 363ms/step\n"
          ]
        },
        {
          "output_type": "execute_result",
          "data": {
            "text/plain": [
              "array([[0.56767464],\n",
              "       [0.29864234],\n",
              "       [0.5588187 ]], dtype=float32)"
            ]
          },
          "metadata": {},
          "execution_count": 33
        }
      ]
    },
    {
      "cell_type": "code",
      "source": [
        "examples = [\n",
        "    'The movie was not good, it was bad',\n",
        "    'The movie was good, it was not bad'\n",
        "]\n",
        "\n",
        "export_model.predict(examples)"
      ],
      "metadata": {
        "colab": {
          "base_uri": "https://localhost:8080/"
        },
        "id": "N0uVAk9SUanD",
        "outputId": "4ec1cf7a-40ba-43b3-eeab-838c87eb43f4"
      },
      "execution_count": 34,
      "outputs": [
        {
          "output_type": "stream",
          "name": "stdout",
          "text": [
            "1/1 [==============================] - 0s 93ms/step\n"
          ]
        },
        {
          "output_type": "execute_result",
          "data": {
            "text/plain": [
              "array([[0.3879039],\n",
              "       [0.3879039]], dtype=float32)"
            ]
          },
          "metadata": {},
          "execution_count": 34
        }
      ]
    }
  ]
}