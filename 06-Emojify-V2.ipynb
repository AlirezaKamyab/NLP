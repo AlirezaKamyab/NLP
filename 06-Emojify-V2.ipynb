{
 "cells": [
  {
   "cell_type": "markdown",
   "id": "12d3a04b-f561-4669-aeb7-28571b351b5a",
   "metadata": {},
   "source": [
    "# Emojify V1"
   ]
  },
  {
   "cell_type": "code",
   "execution_count": 1,
   "id": "cfb5a485-e9de-46d2-8db6-af04ff9a89cb",
   "metadata": {},
   "outputs": [
    {
     "name": "stderr",
     "output_type": "stream",
     "text": [
      "2024-03-16 09:09:52.080967: E external/local_xla/xla/stream_executor/cuda/cuda_dnn.cc:9261] Unable to register cuDNN factory: Attempting to register factory for plugin cuDNN when one has already been registered\n",
      "2024-03-16 09:09:52.080996: E external/local_xla/xla/stream_executor/cuda/cuda_fft.cc:607] Unable to register cuFFT factory: Attempting to register factory for plugin cuFFT when one has already been registered\n",
      "2024-03-16 09:09:52.081849: E external/local_xla/xla/stream_executor/cuda/cuda_blas.cc:1515] Unable to register cuBLAS factory: Attempting to register factory for plugin cuBLAS when one has already been registered\n"
     ]
    }
   ],
   "source": [
    "import os\n",
    "os.environ['TF_CPP_MIN_LOG_LEVEL'] = '2'\n",
    "\n",
    "import tensorflow as tf\n",
    "import numpy as np\n",
    "import matplotlib.pyplot as plt\n",
    "import csv\n",
    "from tensorflow import keras\n",
    "from keras.layers import TextVectorization, Input, Dense, Dropout, Activation, Embedding, LSTM"
   ]
  },
  {
   "cell_type": "code",
   "execution_count": 2,
   "id": "45e81839-6391-4d32-9187-15ae15191f55",
   "metadata": {},
   "outputs": [],
   "source": [
    "def read_csv(file_name):\n",
    "    phrases = []\n",
    "    emojies = []\n",
    "    with open(file_name, 'r') as file:\n",
    "        reader = csv.reader(file)\n",
    "        for row in reader:\n",
    "            phrases.append(row[0])\n",
    "            emojies.append(int(row[1]))\n",
    "    return phrases, emojies"
   ]
  },
  {
   "cell_type": "code",
   "execution_count": 3,
   "id": "cedaf958-c540-48b2-8a8f-e3d2db68b4ca",
   "metadata": {},
   "outputs": [],
   "source": [
    "x_train, y_train = read_csv('./temp/emojify/train_emoji.csv')\n",
    "x_test, y_test = read_csv('./temp/emojify/tesss.csv')"
   ]
  },
  {
   "cell_type": "code",
   "execution_count": 4,
   "id": "6075b6ca-0216-49b8-b32c-d197186c7896",
   "metadata": {},
   "outputs": [],
   "source": [
    "SEQUENCE_LENGTH = max([len(x.split()) for x in x_train])"
   ]
  },
  {
   "cell_type": "code",
   "execution_count": 5,
   "id": "2ef07503-dcb9-40f1-ad0f-15d2dd6c6455",
   "metadata": {},
   "outputs": [],
   "source": [
    "import emoji \n",
    "\n",
    "emoji_dictionary = {0: \":grey_heart:\", \n",
    "                    1: \":baseball:\",\n",
    "                    2: \":smiling_face_with_smiling_eyes:\",\n",
    "                    3: \":disappointed_face:\",\n",
    "                    4: \":fork_and_knife:\"}"
   ]
  },
  {
   "cell_type": "code",
   "execution_count": 6,
   "id": "79a6e3cb-f3f2-4286-8924-d3ec2359141c",
   "metadata": {},
   "outputs": [
    {
     "name": "stdout",
     "output_type": "stream",
     "text": [
      "never talk to me again 😞\n",
      "I am proud of your achievements 😊\n",
      "It is the worst day in my life 😞\n",
      "Miss you so much 🩶\n",
      "food is life 🍴\n"
     ]
    }
   ],
   "source": [
    "for i in range(5):\n",
    "    text = x_train[i]\n",
    "    emo = emoji_dictionary[y_train[i]]\n",
    "    print(text, emoji.emojize(emo))"
   ]
  },
  {
   "cell_type": "code",
   "execution_count": 7,
   "id": "8b19d12e-edf8-4a37-9346-9f620047ee1d",
   "metadata": {},
   "outputs": [],
   "source": [
    "y_train = tf.keras.utils.to_categorical(y_train)\n",
    "y_test = tf.keras.utils.to_categorical(y_test)"
   ]
  },
  {
   "cell_type": "markdown",
   "id": "5235f42d-86ad-4b6e-be78-e8a69e93f60a",
   "metadata": {},
   "source": [
    "## Loading GloVe"
   ]
  },
  {
   "cell_type": "code",
   "execution_count": 8,
   "id": "ca692e08-03c2-4817-9d83-dd9210931cb7",
   "metadata": {},
   "outputs": [],
   "source": [
    "def get_embeddings(glove_file):\n",
    "    embeddings = {}\n",
    "    with open(glove_file, 'r') as file:\n",
    "        for line in file.readlines():\n",
    "            values = line.split()\n",
    "            word = values[0]\n",
    "            vector = np.array(values[1:], dtype='float32')\n",
    "            embeddings[word] = vector\n",
    "\n",
    "    word_to_index = {}\n",
    "    index_to_word = {}\n",
    "    i = 2\n",
    "    for w in embeddings.keys():\n",
    "        word_to_index[w] = i\n",
    "        index_to_word[i] = w\n",
    "        i += 1\n",
    "\n",
    "    return embeddings, word_to_index, index_to_word"
   ]
  },
  {
   "cell_type": "code",
   "execution_count": 9,
   "id": "7e4efb47-3c9c-419f-853b-8f07ec8b197e",
   "metadata": {},
   "outputs": [],
   "source": [
    "OUTPUT_DIM = 50\n",
    "glove_file = f\"./temp/glove.6B.{OUTPUT_DIM}d.txt\"\n",
    "embeddings, word_to_index, index_to_word = get_embeddings(glove_file)\n",
    "MAX_TOKENS = len(list(embeddings.keys())) + 2 # for padding and oov tokens\n",
    "\n",
    "vectorize_layer = TextVectorization(\n",
    "    max_tokens=MAX_TOKENS, \n",
    "    output_sequence_length=SEQUENCE_LENGTH,\n",
    "    vocabulary=list(word_to_index.keys())\n",
    ")"
   ]
  },
  {
   "cell_type": "markdown",
   "id": "118ddaa5-7f63-44d6-9146-b8bd3163f59b",
   "metadata": {},
   "source": [
    "## Create a pipeline"
   ]
  },
  {
   "cell_type": "code",
   "execution_count": 10,
   "id": "686ce7da-4e42-4708-b51e-baa6eebf99ed",
   "metadata": {},
   "outputs": [],
   "source": [
    "AUTOTUNE = tf.data.experimental.AUTOTUNE\n",
    "SHUFFLE_BUFFER = 64\n",
    "BATCH_SIZE = 32\n",
    "\n",
    "def vectorize(text, label):\n",
    "    vec = vectorize_layer(text)\n",
    "    return vec, tf.cast(label, dtype=tf.float32)\n",
    "\n",
    "train_ds = tf.data.Dataset.from_tensor_slices((x_train, y_train))\n",
    "train_ds = train_ds.map(vectorize, num_parallel_calls=AUTOTUNE)\n",
    "train_ds = train_ds.cache()\n",
    "train_ds = train_ds.shuffle(SHUFFLE_BUFFER)\n",
    "train_ds = train_ds.batch(BATCH_SIZE, num_parallel_calls=AUTOTUNE)\n",
    "train_ds = train_ds.prefetch(AUTOTUNE)\n",
    "\n",
    "test_ds = tf.data.Dataset.from_tensor_slices((x_test, y_test))\n",
    "test_ds = test_ds.map(vectorize, num_parallel_calls=AUTOTUNE)\n",
    "test_ds = test_ds.cache()\n",
    "test_ds = test_ds.batch(BATCH_SIZE, num_parallel_calls=AUTOTUNE)\n",
    "test_ds = test_ds.prefetch(AUTOTUNE)"
   ]
  },
  {
   "cell_type": "markdown",
   "id": "1d5e3b30-6434-44da-a6c1-86b945b1f8ea",
   "metadata": {},
   "source": [
    "## Create a model"
   ]
  },
  {
   "cell_type": "code",
   "execution_count": 11,
   "id": "0c39cb67-0999-4816-89cb-f209715a6059",
   "metadata": {},
   "outputs": [],
   "source": [
    "embedding_matrix = np.zeros((MAX_TOKENS, OUTPUT_DIM), dtype='float32')\n",
    "embedding_matrix[2:] = np.array(list(embeddings.values()), dtype='float32')"
   ]
  },
  {
   "cell_type": "code",
   "execution_count": 12,
   "id": "08c341cd-ad09-4af0-8991-ff9b2c6af07a",
   "metadata": {},
   "outputs": [],
   "source": [
    "def get_uncompiled_model(input_shape):\n",
    "    inputs = Input(shape=input_shape)\n",
    "    x = Embedding(MAX_TOKENS, OUTPUT_DIM, weights=[embedding_matrix], trainable=False)(inputs)\n",
    "    x = LSTM(units=256, return_sequences=True)(x)\n",
    "    x = Dropout(0.6)(x)\n",
    "    x = LSTM(units=256)(x)\n",
    "    x = Dropout(0.6)(x)\n",
    "    x = Dense(5)(x)\n",
    "    x = Activation('softmax')(x)\n",
    "    return keras.models.Model(inputs=inputs, outputs=x)"
   ]
  },
  {
   "cell_type": "code",
   "execution_count": 13,
   "id": "2673687f-3cfc-40b3-b557-5586a372acd4",
   "metadata": {},
   "outputs": [
    {
     "name": "stdout",
     "output_type": "stream",
     "text": [
      "Model: \"model\"\n",
      "_________________________________________________________________\n",
      " Layer (type)                Output Shape              Param #   \n",
      "=================================================================\n",
      " input_1 (InputLayer)        [(None, 10)]              0         \n",
      "                                                                 \n",
      " embedding (Embedding)       (None, 10, 50)            20000100  \n",
      "                                                                 \n",
      " lstm (LSTM)                 (None, 10, 256)           314368    \n",
      "                                                                 \n",
      " dropout (Dropout)           (None, 10, 256)           0         \n",
      "                                                                 \n",
      " lstm_1 (LSTM)               (None, 256)               525312    \n",
      "                                                                 \n",
      " dropout_1 (Dropout)         (None, 256)               0         \n",
      "                                                                 \n",
      " dense (Dense)               (None, 5)                 1285      \n",
      "                                                                 \n",
      " activation (Activation)     (None, 5)                 0         \n",
      "                                                                 \n",
      "=================================================================\n",
      "Total params: 20841065 (79.50 MB)\n",
      "Trainable params: 840965 (3.21 MB)\n",
      "Non-trainable params: 20000100 (76.29 MB)\n",
      "_________________________________________________________________\n"
     ]
    }
   ],
   "source": [
    "model = get_uncompiled_model(input_shape=(SEQUENCE_LENGTH,))\n",
    "model.compile(\n",
    "    loss=tf.losses.CategoricalCrossentropy(),\n",
    "    optimizer=tf.optimizers.Adam(),\n",
    "    metrics=['accuracy']\n",
    ")\n",
    "model.summary()"
   ]
  },
  {
   "cell_type": "code",
   "execution_count": 14,
   "id": "f4999e45-60a4-4e3d-a2b7-13eb9941f53c",
   "metadata": {},
   "outputs": [
    {
     "name": "stderr",
     "output_type": "stream",
     "text": [
      "WARNING: All log messages before absl::InitializeLog() is called are written to STDERR\n",
      "I0000 00:00:1710594605.102677  144505 device_compiler.h:186] Compiled cluster using XLA!  This line is logged at most once for the lifetime of the process.\n"
     ]
    }
   ],
   "source": [
    "history = model.fit(\n",
    "    train_ds,\n",
    "    epochs=1000,\n",
    "    verbose=0\n",
    ")"
   ]
  },
  {
   "cell_type": "code",
   "execution_count": 15,
   "id": "0523eb14-ec3c-4a72-9fbb-b80c9ff76090",
   "metadata": {},
   "outputs": [
    {
     "data": {
      "image/png": "[encoded data removed]",
      "text/plain": [
       "<Figure size 1000x500 with 2 Axes>"
      ]
     },
     "metadata": {},
     "output_type": "display_data"
    }
   ],
   "source": [
    "fig = plt.figure(figsize=(10, 5))\n",
    "ax = plt.subplot(121)\n",
    "ax.plot(history.epoch, history.history['loss'])\n",
    "ax.set_title('Loss per epoch')\n",
    "ax.set_xlabel('epoch')\n",
    "ax.set_ylabel('loss')\n",
    "ax.grid(c='#ccc')\n",
    "\n",
    "ax = plt.subplot(122)\n",
    "ax.plot(history.epoch, history.history['accuracy'])\n",
    "ax.set_title('Accuracy per epoch')\n",
    "ax.set_xlabel('epoch')\n",
    "ax.set_ylabel('accuracy')\n",
    "ax.grid(c='#ccc')"
   ]
  },
  {
   "cell_type": "code",
   "execution_count": 16,
   "id": "a7ca1c0c-65e8-42a7-b429-40b418e5ecbc",
   "metadata": {},
   "outputs": [
    {
     "name": "stdout",
     "output_type": "stream",
     "text": [
      "2/2 [==============================] - 1s 5ms/step - loss: 1.0919 - accuracy: 0.8750\n"
     ]
    }
   ],
   "source": [
    "eval_loss, eval_accuracy = model.evaluate(test_ds)"
   ]
  },
  {
   "cell_type": "code",
   "execution_count": 17,
   "id": "496bc906-d1d0-4a15-a626-6788b3ac80c1",
   "metadata": {},
   "outputs": [
    {
     "name": "stdout",
     "output_type": "stream",
     "text": [
      "               he got a very nice raise\t  -- > True emoji is 😊 Predicted 🩶\n",
      "              she got me a nice present\t  -- > True emoji is 😊 Predicted 🩶\n",
      "           This girl is messing with me\t  -- > True emoji is 😞 Predicted 🩶\n",
      "                       work is horrible\t  -- > True emoji is 😞 Predicted 😊\n",
      "                    you brighten my day\t  -- > True emoji is 😊 Predicted 🩶\n",
      "                         she is a bully\t  -- > True emoji is 😞 Predicted 🩶\n",
      "                                go away\t  -- > True emoji is 😞 Predicted ⚾\n"
     ]
    }
   ],
   "source": [
    "y_test_labels = np.argmax(y_test, axis=-1)\n",
    "y_test_pred = np.argmax(model.predict(test_ds, verbose=0), axis=-1)\n",
    "wrong = y_test_labels == y_test_pred\n",
    "wrong = tf.where(wrong == False).numpy().flatten()\n",
    "\n",
    "for w in wrong:\n",
    "    print(f'{x_test[w]:>40}', ' -- > True emoji is', emoji.emojize(emoji_dictionary[y_test_labels[w]]), 'Predicted', emoji.emojize(emoji_dictionary[y_test_pred[w]]))"
   ]
  },
  {
   "cell_type": "code",
   "execution_count": 18,
   "id": "6c020236-6bef-4ca0-a1be-0100448b836e",
   "metadata": {},
   "outputs": [
    {
     "name": "stdout",
     "output_type": "stream",
     "text": [
      "                              i love you  -- > Predicted 🩶\n",
      "                             i adore you  -- > Predicted 🩶\n",
      "                 i don't like to see you  -- > Predicted 🩶\n",
      "                       not feeling happy  -- > Predicted 😞\n",
      "                             i am hungry  -- > Predicted 🍴\n",
      "                           i am ravenous  -- > Predicted 😊\n"
     ]
    }
   ],
   "source": [
    "test_sentences = [\n",
    "    'i love you',\n",
    "    'i adore you',\n",
    "    'i don\\'t like to see you',\n",
    "    'not feeling happy',\n",
    "    'i am hungry',\n",
    "    'i am ravenous'\n",
    "]\n",
    "\n",
    "y_test_pred = np.argmax(model.predict(vectorize_layer(test_sentences), verbose=0), axis=-1)\n",
    "for i, s in enumerate(test_sentences):\n",
    "      print(f'{s:>40}', ' -- > Predicted', emoji.emojize(emoji_dictionary[y_test_pred[i]]))"
   ]
  }
 ],
 "metadata": {
  "kernelspec": {
   "display_name": "Python 3 (ipykernel)",
   "language": "python",
   "name": "python3"
  },
  "language_info": {
   "codemirror_mode": {
    "name": "ipython",
    "version": 3
   },
   "file_extension": ".py",
   "mimetype": "text/x-python",
   "name": "python",
   "nbconvert_exporter": "python",
   "pygments_lexer": "ipython3",
   "version": "3.11.8"
  }
 },
 "nbformat": 4,
 "nbformat_minor": 5
}
